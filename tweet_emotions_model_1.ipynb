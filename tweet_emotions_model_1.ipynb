{
 "cells": [
  {
   "attachments": {},
   "cell_type": "markdown",
   "id": "cdef23ac",
   "metadata": {},
   "source": [
    "<img width=\"800px\" heigh=\"400px\" src=\"logo.png\"></img>\n",
    "\n",
    "# <!-- AUTHOR --> - AUTHOR : __Dr. Amiehe-Essomba__\n",
    "# <!-- TITLE --> - TITLE : Sentiment analysis using a Recurent Neural Network (RNN) with (LSTM & GRU)-\n",
    "\n",
    "## Objectives :\n",
    " - The objective is to guess whether airline reviews are **positive, negative or neutral** based on the analysis of the text. \n",
    " - The models used here are based on LSTM and GRU\n",
    "\n",
    "Original dataset can be find in **[Kaggle](https://www.kaggle.com/datasets/tango911/airline-sentiment-tweets)**  \n",
    "Note that **Kaggle** offers several easy-to-use [datasets](https://www.kaggle.com/datasets/) for NLP, Computer vision, Pre-trained models\n",
    "\n",
    "\n",
    "## What we will do here :\n",
    "\n",
    " - loading data from and exteranal source (**Kaggle**)\n",
    " - Data preprocessing( **cleaning, tokinization, padding**)\n",
    " - Building Embedding/LSTM Embedding/GRU models\n",
    " - Train and test models\n",
    " - Computing metrics for evaluating models\n",
    " - Select the best model between LSTM or GRU for this dataset\n",
    " - Building the final model \n",
    " - Deploying the best model\n"
   ]
  },
  {
   "cell_type": "code",
   "execution_count": 5,
   "id": "daab3e9a-36e1-42e9-8e58-690b1efc028b",
   "metadata": {},
   "outputs": [],
   "source": [
    "#loading numerical modules\n",
    "%matplotlib inline \n",
    "import sys, os \n",
    "import numpy as np\n",
    "import pandas as pd \n",
    "import matplotlib.pyplot as plt \n",
    "import seaborn as sns\n",
    "from plotly.subplots import make_subplots as ms \n",
    "\n",
    "#loading deep learning modules \n",
    "import tensorboard as tb\n",
    "import tensorflow as tf\n",
    "from keras.models import Sequential as S \n",
    "import plotly.graph_objs as go\n",
    "import plotly.express as px\n",
    "from keras.utils import to_categorical as ct\n",
    "from keras.layers import Dense, LSTM, GRU, Dropout, Embedding, GlobalAveragePooling1D\n",
    "# splitting data \n",
    "from sklearn.model_selection import train_test_split as tts\n",
    "# module to clear text \n",
    "import re\n"
   ]
  },
  {
   "cell_type": "code",
   "execution_count": 6,
   "id": "2c3f66b7",
   "metadata": {},
   "outputs": [],
   "source": [
    "def PATHS(epoch, model_type:str = 'LSTM'):\n",
    "    log_dir = f'C:\\\\Users\\\\amib\\\\Documents\\\\DATA\\\\TWEETS\\\\logs'\n",
    "    path_best_model = f\"{log_dir}\\\\\"+f\"{model_type}-best_model.h5\"\n",
    "    path_models = f\"{log_dir}\\\\\" + f\"{model_type}\"+\"-{epoch:04d}-model.h5\"\n",
    "\n",
    "    return log_dir, path_best_model, path_models"
   ]
  },
  {
   "cell_type": "code",
   "execution_count": 2,
   "id": "72e952e6-0b68-4a33-9e96-159c43218406",
   "metadata": {},
   "outputs": [],
   "source": [
    "def Callbacks(epoch, model_type:str = 'LSTM'):\n",
    "    log_dir, path_best_model, path_models = PATHS(epoch=epoch, model_type=model_type)\n",
    "\n",
    "    callbacks_tensorboard = tf.keras.callbacks.TensorBoard(log_dir=log_dir, histogram_freq=1)\n",
    "    callbacks_best = tf.keras.callbacks.ModelCheckpoint(filepath=path_best_model, save_best_only=True, \n",
    "                                                        verbose=1, monitor='val_accuracy')\n",
    "    callbacks_models = tf.keras.callbacks.ModelCheckpoint(filepath=path_models, verbose=1)\n",
    "\n",
    "    return [callbacks_tensorboard, callbacks_best, callbacks_models]"
   ]
  },
  {
   "cell_type": "code",
   "execution_count": 25,
   "id": "5403f0a8",
   "metadata": {},
   "outputs": [],
   "source": [
    "def gru_model(\n",
    "        x_train : np.ndarray, y_train : np.ndarray, \n",
    "        x_test : np.ndarray, y_test : np.ndarray, \n",
    "        input_dim : int, output_dim : int, \n",
    "        input_length: int, epochs : int =10, label : int = 1\n",
    "        ):\n",
    "    callbacks_tensorboard, callbacks_best, callbacks_models = Callbacks(epoch=epochs, model_type='GRU')\n",
    "    model = S()\n",
    "    model.add(Embedding(input_dim=input_dim, output_dim=output_dim, input_length=input_length))\n",
    "    model.add(Dropout(rate=0.6))\n",
    "    model.add(GRU(units=50, activation=tf.keras.activations.tanh, return_sequences=True))\n",
    "    model.add(GRU(units=128, activation=tf.keras.activations.tanh))\n",
    "    model.add(Dropout(rate=0.5))\n",
    "    model.add(Dense(label, activation=tf.keras.activations.sigmoid))\n",
    "    model.compile(loss=tf.keras.losses.binary_crossentropy,\n",
    "              optimizer=\"rmsprop\",\n",
    "              metrics=[\"accuracy\"])\n",
    "    \n",
    "    history = model.fit(x_train, y_train, \n",
    "                        epochs=epochs, \n",
    "                        validation_data=(x_test, y_test), \n",
    "                        batch_size=100, verbose=1,\n",
    "                        callbacks= [callbacks_tensorboard, callbacks_best, callbacks_models]\n",
    "                        )\n",
    "    \n",
    "\n",
    "    return model, history"
   ]
  },
  {
   "cell_type": "code",
   "execution_count": 26,
   "id": "c31db87c-ba08-4c57-b39b-c537feeb1212",
   "metadata": {},
   "outputs": [],
   "source": [
    "def lstm_model(\n",
    "        x_train : np.ndarray, y_train : np.ndarray, \n",
    "        x_test : np.ndarray, y_test : np.ndarray, \n",
    "        input_dim : int, output_dim : int, \n",
    "        input_length: int, epochs : int =10, label : int = 1\n",
    "        ):\n",
    "    \n",
    "    callbacks_tensorboard, callbacks_best, callbacks_models = Callbacks(epoch=epochs, model_type='LSTM')\n",
    "    model = S()\n",
    "    model.add(Embedding(input_dim=input_dim, output_dim=output_dim, input_length=input_length))\n",
    "    model.add(LSTM(units=50, activation=tf.keras.activations.tanh, return_sequences=True))\n",
    "    model.add(Dropout(rate=0.8))\n",
    "    model.add(LSTM(units=128, activation=tf.keras.activations.tanh))\n",
    "    model.add(Dropout(rate=0.5))\n",
    "    model.add(Dense(label, activation=tf.keras.activations.sigmoid))\n",
    "    model.compile(loss=tf.keras.losses.binary_crossentropy,\n",
    "              optimizer=\"adam\",\n",
    "              metrics=[\"accuracy\"])\n",
    "    \n",
    "    history = model.fit(x_train, y_train, \n",
    "                        epochs=epochs, \n",
    "                        validation_data=(x_test, y_test), \n",
    "                        batch_size=50, verbose=1,\n",
    "                        callbacks= [callbacks_tensorboard, callbacks_best, callbacks_models]\n",
    "                        )\n",
    "    \n",
    "\n",
    "    return model, history"
   ]
  },
  {
   "cell_type": "code",
   "execution_count": 27,
   "id": "7db461e6-a0ca-4d3b-b985-00c3deb1487b",
   "metadata": {},
   "outputs": [],
   "source": [
    "def get_index(reviews : list, words_index : list, words : list, max_length : int = 100 ):\n",
    "    reviews_index = []\n",
    "    history = {\"unknown_words\" : []}\n",
    "\n",
    "    size = len(reviews)\n",
    "    if reviews : \n",
    "        for review_word in reviews:\n",
    "            if type(review_word) == type(str()):\n",
    "                review_tokens = review_word.split() \n",
    "                if review_tokens:\n",
    "                    unknown         = []\n",
    "                    review_index    = []\n",
    "\n",
    "                    for word in review_tokens:\n",
    "                        word = word.lower().rstrip().lstrip()\n",
    "                        word = re.sub(r\"[^a-zA-Z0-9]\", \"\", word)\n",
    "                        if word in words:\n",
    "                            if words_index[ words.index( word ) ] < 10000:\n",
    "                                review_index.append( words_index[ words.index( word ) ] )\n",
    "                            else: pass\n",
    "                        else: unknown.append(word)\n",
    "\n",
    "                    history[\"unknown_words\"].append(unknown)\n",
    "                    if len( review_index ) < max_length:\n",
    "                        review_index = [0 for i in range( max_length - len(review_index ))] + review_index \n",
    "                    reviews_index.append(review_index)\n",
    "                else: pass\n",
    "            else: break\n",
    "    else: pass \n",
    "\n",
    "    reviews_index = np.array( reviews_index ) \n",
    "    return reviews_index, history "
   ]
  },
  {
   "cell_type": "code",
   "execution_count": 11,
   "id": "be589cee-d78e-4545-aaa9-fc11b7bd2391",
   "metadata": {},
   "outputs": [],
   "source": [
    "# data location\n",
    "path = 'C:\\\\Users\\\\amib\\\\Documents\\\\DATA\\\\TWEETS\\\\Tweets.csv'\n",
    "\n",
    "# loading data \n",
    "data =  pd.read_csv(path)\n",
    "\n",
    "# target names configuration\n",
    "labels = dict(negative=1, positive=2, neutral=0)\n",
    "target_names = data.airline_sentiment.values \n",
    "\n",
    "# target\n",
    "target = np.array( [labels[x] for x in target_names]).reshape((-1, ))\n",
    "\n",
    "# text analysis\n",
    "text = data.text.values\n",
    "\n",
    "# input configuration\n",
    "max_length      = 100   \n",
    "embedding_dim   = 100\n",
    "max_words       = 10000\n",
    "\n",
    "# creating tokens from text \n",
    "tokenizer = tf.keras.preprocessing.text.Tokenizer(num_words=max_words)\n",
    "tokenizer.fit_on_texts(texts=text)\n",
    "\n",
    "# creating sequences \n",
    "sequences = tokenizer.texts_to_sequences(texts=text)\n",
    "\n",
    "# senquence padding is a form of words normalisation\n",
    "pad_sequence = tf.keras.preprocessing.sequence.pad_sequences(sequences=sequences, maxlen=max_length, value=0, padding = 'post')\n",
    "\n",
    "# creating a dataset \n",
    "x_train, x_test, y_train, y_test = tts(pad_sequence, target, random_state=1, shuffle=True, test_size=0.2)\n"
   ]
  },
  {
   "cell_type": "code",
   "execution_count": 12,
   "id": "5fe4e29e-41a7-4a90-9934-9e34b3ad5727",
   "metadata": {},
   "outputs": [],
   "source": [
    "# get words index \n",
    "words_index  = [index for keys, index in tokenizer.word_index.items() ]\n",
    "# get words\n",
    "words        = [keys for keys, index in tokenizer.word_index.items()  ]\n",
    "# data frame\n",
    "word_index_df = pd.Series(data = words)"
   ]
  },
  {
   "cell_type": "code",
   "execution_count": 17,
   "id": "b5c4b91e-c120-4071-af51-8faff9d42985",
   "metadata": {},
   "outputs": [
    {
     "name": "stdout",
     "output_type": "stream",
     "text": [
      "Epoch 1/10\n",
      "235/235 [==============================] - ETA: 0s - loss: 0.2333 - accuracy: 0.6264\n",
      "Epoch 1: val_accuracy improved from -inf to 0.62363, saving model to C:\\Users\\amib\\Documents\\DATA\\TWEETS\\logs\\LSTM-best_model.h5\n",
      "\n",
      "Epoch 1: saving model to C:\\Users\\amib\\Documents\\DATA\\TWEETS\\logs\\LSTM-0001-model.h5\n",
      "235/235 [==============================] - 67s 263ms/step - loss: 0.2333 - accuracy: 0.6264 - val_loss: 0.1712 - val_accuracy: 0.6236\n",
      "Epoch 2/10\n",
      "235/235 [==============================] - ETA: 0s - loss: 0.2175 - accuracy: 0.6277\n",
      "Epoch 2: val_accuracy did not improve from 0.62363\n",
      "\n",
      "Epoch 2: saving model to C:\\Users\\amib\\Documents\\DATA\\TWEETS\\logs\\LSTM-0002-model.h5\n",
      "235/235 [==============================] - 62s 263ms/step - loss: 0.2175 - accuracy: 0.6277 - val_loss: 0.1746 - val_accuracy: 0.6236\n",
      "Epoch 3/10\n",
      "235/235 [==============================] - ETA: 0s - loss: 0.2122 - accuracy: 0.6277\n",
      "Epoch 3: val_accuracy did not improve from 0.62363\n",
      "\n",
      "Epoch 3: saving model to C:\\Users\\amib\\Documents\\DATA\\TWEETS\\logs\\LSTM-0003-model.h5\n",
      "235/235 [==============================] - 61s 258ms/step - loss: 0.2122 - accuracy: 0.6277 - val_loss: 0.1711 - val_accuracy: 0.6236\n",
      "Epoch 4/10\n",
      "235/235 [==============================] - ETA: 0s - loss: 0.2134 - accuracy: 0.6277\n",
      "Epoch 4: val_accuracy did not improve from 0.62363\n",
      "\n",
      "Epoch 4: saving model to C:\\Users\\amib\\Documents\\DATA\\TWEETS\\logs\\LSTM-0004-model.h5\n",
      "235/235 [==============================] - 64s 273ms/step - loss: 0.2134 - accuracy: 0.6277 - val_loss: 0.1782 - val_accuracy: 0.6236\n",
      "Epoch 5/10\n",
      "235/235 [==============================] - ETA: 0s - loss: 0.2143 - accuracy: 0.6277\n",
      "Epoch 5: val_accuracy did not improve from 0.62363\n",
      "\n",
      "Epoch 5: saving model to C:\\Users\\amib\\Documents\\DATA\\TWEETS\\logs\\LSTM-0005-model.h5\n",
      "235/235 [==============================] - 62s 262ms/step - loss: 0.2143 - accuracy: 0.6277 - val_loss: 0.1711 - val_accuracy: 0.6236\n",
      "Epoch 6/10\n",
      "235/235 [==============================] - ETA: 0s - loss: 0.2117 - accuracy: 0.6277\n",
      "Epoch 6: val_accuracy did not improve from 0.62363\n",
      "\n",
      "Epoch 6: saving model to C:\\Users\\amib\\Documents\\DATA\\TWEETS\\logs\\LSTM-0006-model.h5\n",
      "235/235 [==============================] - 60s 256ms/step - loss: 0.2117 - accuracy: 0.6277 - val_loss: 0.1716 - val_accuracy: 0.6236\n",
      "Epoch 7/10\n",
      "235/235 [==============================] - ETA: 0s - loss: 0.2103 - accuracy: 0.6277\n",
      "Epoch 7: val_accuracy did not improve from 0.62363\n",
      "\n",
      "Epoch 7: saving model to C:\\Users\\amib\\Documents\\DATA\\TWEETS\\logs\\LSTM-0007-model.h5\n",
      "235/235 [==============================] - 60s 254ms/step - loss: 0.2103 - accuracy: 0.6277 - val_loss: 0.1711 - val_accuracy: 0.6236\n",
      "Epoch 8/10\n",
      "235/235 [==============================] - ETA: 0s - loss: 0.2103 - accuracy: 0.6277\n",
      "Epoch 8: val_accuracy did not improve from 0.62363\n",
      "\n",
      "Epoch 8: saving model to C:\\Users\\amib\\Documents\\DATA\\TWEETS\\logs\\LSTM-0008-model.h5\n",
      "235/235 [==============================] - 61s 260ms/step - loss: 0.2103 - accuracy: 0.6277 - val_loss: 0.1717 - val_accuracy: 0.6236\n",
      "Epoch 9/10\n",
      "235/235 [==============================] - ETA: 0s - loss: 0.2134 - accuracy: 0.6277\n",
      "Epoch 9: val_accuracy did not improve from 0.62363\n",
      "\n",
      "Epoch 9: saving model to C:\\Users\\amib\\Documents\\DATA\\TWEETS\\logs\\LSTM-0009-model.h5\n",
      "235/235 [==============================] - 60s 257ms/step - loss: 0.2134 - accuracy: 0.6277 - val_loss: 0.1728 - val_accuracy: 0.6236\n",
      "Epoch 10/10\n",
      "235/235 [==============================] - ETA: 0s - loss: 0.2101 - accuracy: 0.6277\n",
      "Epoch 10: val_accuracy did not improve from 0.62363\n",
      "\n",
      "Epoch 10: saving model to C:\\Users\\amib\\Documents\\DATA\\TWEETS\\logs\\LSTM-0010-model.h5\n",
      "235/235 [==============================] - 60s 253ms/step - loss: 0.2101 - accuracy: 0.6277 - val_loss: 0.1711 - val_accuracy: 0.6236\n"
     ]
    }
   ],
   "source": [
    "#buiding LSTM model\n",
    "vocab_size      = x_train.shape[0]\n",
    "\n",
    "model, history  = lstm_model(\n",
    "    x_train=x_train, y_train=y_train, \n",
    "    x_test=x_test, y_test=y_test,\n",
    "    input_dim=vocab_size, output_dim=embedding_dim, \n",
    "    input_length=max_length\n",
    "    )"
   ]
  },
  {
   "cell_type": "code",
   "execution_count": 23,
   "id": "61320e39-8e0c-49f8-8482-a48e090df37f",
   "metadata": {},
   "outputs": [
    {
     "data": {
      "text/html": [
       "<div>\n",
       "<style scoped>\n",
       "    .dataframe tbody tr th:only-of-type {\n",
       "        vertical-align: middle;\n",
       "    }\n",
       "\n",
       "    .dataframe tbody tr th {\n",
       "        vertical-align: top;\n",
       "    }\n",
       "\n",
       "    .dataframe thead th {\n",
       "        text-align: right;\n",
       "    }\n",
       "</style>\n",
       "<table border=\"1\" class=\"dataframe\">\n",
       "  <thead>\n",
       "    <tr style=\"text-align: right;\">\n",
       "      <th></th>\n",
       "      <th>loss</th>\n",
       "      <th>accuracy</th>\n",
       "      <th>val_loss</th>\n",
       "      <th>val_accuracy</th>\n",
       "    </tr>\n",
       "  </thead>\n",
       "  <tbody>\n",
       "    <tr>\n",
       "      <th>5</th>\n",
       "      <td>0.211721</td>\n",
       "      <td>0.627732</td>\n",
       "      <td>0.171645</td>\n",
       "      <td>0.623634</td>\n",
       "    </tr>\n",
       "    <tr>\n",
       "      <th>6</th>\n",
       "      <td>0.210342</td>\n",
       "      <td>0.627732</td>\n",
       "      <td>0.171110</td>\n",
       "      <td>0.623634</td>\n",
       "    </tr>\n",
       "    <tr>\n",
       "      <th>7</th>\n",
       "      <td>0.210335</td>\n",
       "      <td>0.627732</td>\n",
       "      <td>0.171735</td>\n",
       "      <td>0.623634</td>\n",
       "    </tr>\n",
       "    <tr>\n",
       "      <th>8</th>\n",
       "      <td>0.213392</td>\n",
       "      <td>0.627732</td>\n",
       "      <td>0.172774</td>\n",
       "      <td>0.623634</td>\n",
       "    </tr>\n",
       "    <tr>\n",
       "      <th>9</th>\n",
       "      <td>0.210119</td>\n",
       "      <td>0.627732</td>\n",
       "      <td>0.171080</td>\n",
       "      <td>0.623634</td>\n",
       "    </tr>\n",
       "  </tbody>\n",
       "</table>\n",
       "</div>"
      ],
      "text/plain": [
       "       loss  accuracy  val_loss  val_accuracy\n",
       "5  0.211721  0.627732  0.171645      0.623634\n",
       "6  0.210342  0.627732  0.171110      0.623634\n",
       "7  0.210335  0.627732  0.171735      0.623634\n",
       "8  0.213392  0.627732  0.172774      0.623634\n",
       "9  0.210119  0.627732  0.171080      0.623634"
      ]
     },
     "execution_count": 23,
     "metadata": {},
     "output_type": "execute_result"
    }
   ],
   "source": [
    "df_lstm = pd.DataFrame(history.history)\n",
    "df_lstm.tail(n=5)"
   ]
  },
  {
   "cell_type": "code",
   "execution_count": null,
   "id": "1e0cd7ac",
   "metadata": {},
   "outputs": [],
   "source": [
    "#buiding LSTM model\n",
    "model_gru, history_gru  = gru_model(\n",
    "    x_train=x_train, y_train=y_train, \n",
    "    x_test=x_test, y_test=y_test,\n",
    "    input_dim=vocab_size, output_dim=embedding_dim, \n",
    "    input_length=max_length\n",
    "    )"
   ]
  },
  {
   "cell_type": "code",
   "execution_count": null,
   "id": "a4a840a1",
   "metadata": {},
   "outputs": [],
   "source": [
    "df_gru = pd.DataFrame(history_gru.history)\n",
    "df_gru.tail(n=5)"
   ]
  },
  {
   "cell_type": "code",
   "execution_count": null,
   "id": "64c3dbe4",
   "metadata": {},
   "outputs": [],
   "source": []
  },
  {
   "attachments": {},
   "cell_type": "markdown",
   "id": "559a7a82",
   "metadata": {},
   "source": [
    "* both model give the same loss and score values \n",
    "\n",
    "Then for the next we'll keep working with the __LSTM__ model instead __GRU__"
   ]
  },
  {
   "cell_type": "code",
   "execution_count": 29,
   "id": "7a7f3ba9-19bd-44ce-b1d9-fce52425bd65",
   "metadata": {},
   "outputs": [
    {
     "name": "stdout",
     "output_type": "stream",
     "text": [
      "92/92 [==============================] - 8s 78ms/step - loss: 0.1712 - accuracy: 0.6236\n"
     ]
    }
   ],
   "source": [
    "# model type\n",
    "model_type      = 'LSTM'\n",
    "_path_          = log_dir = f'C:\\\\Users\\\\amib\\\\Documents\\\\DATA\\\\TWEETS\\\\logs'\n",
    "#location where the best model is located\n",
    "path            = f\"{log_dir}\\\\\"+f\"{model_type}-best_model.h5\"\n",
    "#loading the best model\n",
    "model           = tf.keras.models.load_model(filepath=path)\n",
    "# evaluting model \n",
    "loss, score    = model.evaluate(x_test, y_test)"
   ]
  },
  {
   "cell_type": "code",
   "execution_count": 30,
   "id": "5681455f-0695-4b96-83d6-61fcf971db32",
   "metadata": {},
   "outputs": [
    {
     "name": "stdout",
     "output_type": "stream",
     "text": [
      "score : 0.623633861541748\n",
      "loss : 0.1711570918560028\n"
     ]
    }
   ],
   "source": [
    "print(f\"score : {score}\\nloss : {loss}\")"
   ]
  },
  {
   "cell_type": "code",
   "execution_count": 31,
   "id": "9ec42975-ebfa-43b6-9b9e-44306d3724be",
   "metadata": {},
   "outputs": [
    {
     "name": "stdout",
     "output_type": "stream",
     "text": [
      "words_index :\n",
      "[[   0    0    0    0    0    0    0    0    0    0    0    0    0    0\n",
      "     0    0    0    0    0    0    0    0    0    0    0    0    0    0\n",
      "     0    0    0    0    0    0    0    0    0    0    0    0    0    0\n",
      "     0    0    0    0    0    0  870   14  136  116    1  509    4  289\n",
      "  3071   18  449 1502    2  145   27  177   15    2  870   38  301    2\n",
      "   870   14  155 1559 1914    2 4413  293    4  503   28  232   31  197\n",
      "   166   27    3  251  293    4  289  691    1 4410  194    4    8   71\n",
      "     6  870]\n",
      " [   0    0    0    0    0    0    0    0    0    0    0    0    0    0\n",
      "   870   82   26  328 1038  963  242 1554 1345   11  154   51    9   29\n",
      "   870    3  536    1  133    1    2  378  870   28   29  554   28    2\n",
      "   197  603 1351   18  449 3742 1266    3  251 6101    2 4708   28    2\n",
      "  2606   23   47 2774  493   63    2  870   23  393  275   94    4 2606\n",
      "    10  513  481   15  825   18    2 2606    3   73    7  489   60 3078\n",
      "    23 1559   10 2490  311   14  329   44  645    2 2128   35   97   18\n",
      "     2  212]\n",
      " [   0    0    0    0    0    0    0    0    0    0    0    0    0    0\n",
      "     0    0    0    0    0    0    0    0    0    0    0    0    0    0\n",
      "     0    0    0    0    0    0    0    0    0    0    0    0    0    0\n",
      "     0    0    0    0    0    0    0    0    0    0    0    0    0    0\n",
      "     0    0    0    0    0    0    0    0    0  414  449   10 4903 3071\n",
      "    28    2  242  870   24    4   45 1063   35    4  114 2066  103  805\n",
      "   351   29  870   15 1065    1   34   28 4283   25    2  868  757  107\n",
      "   197  256]\n",
      " [   0    0    0    0    0    0    0    0    0    0    0    0    0    0\n",
      "     0    0    0    0    0    0    0    0    0    0    0    0    0    0\n",
      "     0    0    0    0    0    0    0    0    0    0    0    0    0    0\n",
      "    43 4839 3973    1    4 1376   18  663  290   72  922 3973    1  197\n",
      "  4248   31  165   24 1621   90    2  449 3742  147  140  311   23  119\n",
      "    45   23   68 3097   74  487    3   37 1621   27   14    2  698 2426\n",
      "   192   63  293   51    7  219   87   63    4    8   14   78 2701    4\n",
      "   140  870]]\n",
      "unknow_words :\n",
      "{'unknown_words': [['mabuhay', 'mabuhay'], ['paggs', 'beside', '', 'pal', 'mabuhay', '', 'overflowing', 'nespresso', 'alcoholic', 'stool', 'mo', 'lounged', 'smelling'], ['mabuhay', 'pal'], ['impeccable', 'noisy']]}\n"
     ]
    }
   ],
   "source": [
    "# examples of Air France reviews \n",
    "r1= \"\"\"\n",
    "    Mabuhay Lounge is really trying to offer a nice selection of food items. \n",
    "    The people that work in the Lounge are awesome! The lounge is very clean including the restroom. \n",
    "    Its a little congested at times, but other than that I think it's a nice place to relax before a flight.\n",
    "    Thank you, Mabuhay Lounge!\n",
    "    \"\"\"\n",
    "r2= \"\"\"\n",
    "    PAGGS Lounge (beside Gate no. 7) - PAL Frequent Flyer Mabuhay Miles - Elite Level. My first time on this lounge. \n",
    "    I used to go to the paid lounge at this Terminal at the other end. Plenty of food choices, overflowing coffee \n",
    "    Nespresso (I think), alcoholic beverages. The gentleman at the bar was so accommodating, once when the lounge \n",
    "    was full he got a bar stool and asked mo sit in front of the bar. \n",
    "    I lounged there for three hours. Toilet was clean and smelling fresh. Wifi is available, \n",
    "    just ask the password from any of the staff.\n",
    "    \"\"\"\n",
    "\n",
    "r3= \"\"\"\n",
    "    Poor food and beverage selection at the Mabuhay Miles Lounge. Not a service expected from a 4 star airline. PAL must upgrade this \n",
    "    lounge in order to be at par with the services offered by other airlines.\n",
    "    \"\"\"\n",
    "\n",
    "r4= \"\"\"\n",
    "    An improvement compared to a couple of years ago. Still small compared to other \n",
    "    lounges but could not complain as the food choices were good. Wifi was great. Service was impeccable. \n",
    "    If there's one thing I can complain, that is the pretty noisy announcements made when it's \n",
    "    time for boarding or when a flight is delayed. Overall, a good lounge.\n",
    "    \"\"\"\n",
    "\n",
    "reviews = [r1, r2, r3, r4]\n",
    "\n",
    "info, unknow_words = get_index(reviews = reviews, words_index = words_index, words = words )\n",
    "print(f\"words_index :\\n{info}\\nunknow_words :\\n{unknow_words}\")"
   ]
  },
  {
   "cell_type": "code",
   "execution_count": 32,
   "id": "b6e150d5-78ef-430f-840c-e2930eab18c5",
   "metadata": {},
   "outputs": [
    {
     "name": "stdout",
     "output_type": "stream",
     "text": [
      "1/1 [==============================] - 1s 922ms/step\n"
     ]
    }
   ],
   "source": [
    "# reviews predictions\n",
    "\n",
    "reviews_index = info.reshape((-1, 100))\n",
    "confidence_score = []\n",
    "predictions = []\n",
    "\n",
    "\n",
    "\n",
    "predicts =  model.predict(reviews_index) \n",
    "for p in predicts:\n",
    "    if p[0] > 0.5 : predictions.append( {\"predicted\" : \"positive review\", \"score\" : p[0]} )\n",
    "    elif p[0] == 0.5 : predictions.append( {\"predicted\" : \"neutral review\", \"score\" : p[0]} )\n",
    "    else: predictions.append( {\"predicted\" : \"negative review\", \"score\" : p[0]} )\n",
    "\n"
   ]
  },
  {
   "cell_type": "code",
   "execution_count": 33,
   "id": "7b058752-aefa-4735-8b10-f48a19784457",
   "metadata": {},
   "outputs": [
    {
     "data": {
      "text/plain": [
       "[{'predited': 'positive review', 'score': 0.9493405},\n",
       " {'predited': 'positive review', 'score': 0.9490003},\n",
       " {'predited': 'positive review', 'score': 0.94966143},\n",
       " {'predited': 'positive review', 'score': 0.94919974}]"
      ]
     },
     "execution_count": 33,
     "metadata": {},
     "output_type": "execute_result"
    }
   ],
   "source": [
    "predictions"
   ]
  },
  {
   "cell_type": "code",
   "execution_count": 34,
   "id": "44229abd-36b0-4514-8731-fc993e410e5f",
   "metadata": {},
   "outputs": [
    {
     "data": {
      "image/png": "[encoded data removed]",
      "text/plain": [
       "<Figure size 800x400 with 1 Axes>"
      ]
     },
     "metadata": {},
     "output_type": "display_data"
    }
   ],
   "source": [
    "# plot section\n",
    "fig, ax = plt.subplots(1,1, figsize=(8, 4))\n",
    "sns.countplot(data, x='airline_sentiment', ax=ax)\n",
    "ax.set_title(\"Airline sentiment analysis (NLP with CNN using LSTM)\")\n",
    "plt.show()"
   ]
  },
  {
   "cell_type": "code",
   "execution_count": null,
   "id": "383ee600-c0b7-4a60-9a2f-d8b6118f394f",
   "metadata": {},
   "outputs": [],
   "source": []
  }
 ],
 "metadata": {
  "kernelspec": {
   "display_name": "Python 3 (ipykernel)",
   "language": "python",
   "name": "python3"
  },
  "language_info": {
   "codemirror_mode": {
    "name": "ipython",
    "version": 3
   },
   "file_extension": ".py",
   "mimetype": "text/x-python",
   "name": "python",
   "nbconvert_exporter": "python",
   "pygments_lexer": "ipython3",
   "version": "3.9.7"
  }
 },
 "nbformat": 4,
 "nbformat_minor": 5
}
